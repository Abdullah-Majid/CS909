{
  "nbformat": 4,
  "nbformat_minor": 0,
  "metadata": {
    "colab": {
      "name": "regper.ipynb",
      "provenance": [],
      "authorship_tag": "ABX9TyPgtKOa5wcNHBpsnRcZjO1g",
      "include_colab_link": true
    },
    "kernelspec": {
      "name": "python3",
      "display_name": "Python 3"
    }
  },
  "cells": [
    {
      "cell_type": "markdown",
      "metadata": {
        "id": "view-in-github",
        "colab_type": "text"
      },
      "source": [
        "<a href=\"https://colab.research.google.com/github/foxtrotmike/CS909/blob/master/regper.ipynb\" target=\"_parent\"><img src=\"https://colab.research.google.com/assets/colab-badge.svg\" alt=\"Open In Colab\"/></a>"
      ]
    },
    {
      "cell_type": "code",
      "metadata": {
        "colab": {
          "base_uri": "https://localhost:8080/",
          "height": 358
        },
        "id": "lt1lYb0xuHuX",
        "outputId": "79da1239-ef04-48c1-dc20-f3084a1a86d9"
      },
      "source": [
        "import numpy as np\r\n",
        "import matplotlib.pyplot as plt\r\n",
        "import itertools\r\n",
        "from numpy.random import randn #importing randn\r\n",
        "import numpy as np #importing numpy\r\n",
        "import matplotlib.pyplot as plt #importing plotting module\r\n",
        "import itertools\r\n",
        "import warnings\r\n",
        "\r\n",
        "def plotit(X,Y=None,clf=None,  conts = None, ccolors = ('b','k','r'), colors = ('c','y'), markers = ('s','o'), hold = False, transform = None,extent = None,**kwargs):\r\n",
        "    \"\"\"\r\n",
        "    A function for showing data scatter plot and classification boundary\r\n",
        "    of a classifier for 2D data\r\n",
        "        X: nxd  matrix of data points\r\n",
        "        Y: (optional) n vector of class labels\r\n",
        "        clf: (optional) classification/discriminant function handle\r\n",
        "        conts: (optional) contours (if None, contours are drawn for each class boundary)\r\n",
        "        ccolors: (optional) colors for contours   \r\n",
        "        colors: (optional) colors for each class (sorted wrt class id)\r\n",
        "            can be 'scaled' or 'random' or a list/tuple of color ids\r\n",
        "        markers: (optional) markers for each class (sorted wrt class id)\r\n",
        "        hold: Whether to hold the plot or not for overlay (default: False).\r\n",
        "        transform: (optional) a function handle for transforming data before passing to clf\r\n",
        "        kwargs: any keyword arguments to be passed to clf (if any)        \r\n",
        "    \"\"\"\r\n",
        "    if clf is not None and X.shape[1]!=2:\r\n",
        "        warnings.warn(\"Data Dimensionality is not 2. Unable to plot.\")\r\n",
        "        return\r\n",
        "    if markers is None:\r\n",
        "        markers = ('.',)\r\n",
        "    eps=1e-6\r\n",
        "    d0,d1 = (0,1)\r\n",
        "    if extent is None:\r\n",
        "        minx, maxx = np.min(X[:,d0])-eps, np.max(X[:,d0])+eps\r\n",
        "        miny, maxy = np.min(X[:,d1])-eps, np.max(X[:,d1])+eps\r\n",
        "        extent = [minx,maxx,miny,maxy]\r\n",
        "    else:\r\n",
        "        [minx,maxx,miny,maxy] = extent\r\n",
        "    if Y is not None:\r\n",
        "        classes = sorted(set(Y))\r\n",
        "        if conts is None:\r\n",
        "            conts = list(classes)        \r\n",
        "        vmin,vmax = classes[0]-eps,classes[-1]+eps\r\n",
        "    else:\r\n",
        "        vmin,vmax=-2-eps,2+eps\r\n",
        "        if conts is None:            \r\n",
        "            conts = sorted([-1+eps,0,1-eps])\r\n",
        "        \r\n",
        "    if clf is not None:\r\n",
        "        npts = 150\r\n",
        "        x = np.linspace(minx,maxx,npts)\r\n",
        "        y = np.linspace(miny,maxy,npts)\r\n",
        "        t = np.array(list(itertools.product(x,y)))\r\n",
        "        if transform is not None:\r\n",
        "            t = transform(t)\r\n",
        "        z = clf(t,**kwargs)\r\n",
        "        \r\n",
        "        z = np.reshape(z,(npts,npts)).T        \r\n",
        "        \r\n",
        "        \r\n",
        "        plt.contour(x,y,z,conts,linewidths = [2],colors=ccolors,extent=extent, label='f(x)=0')\r\n",
        "        #plt.imshow(np.flipud(z), extent = extent, cmap=plt.cm.Purples, vmin = -2, vmax = +2); plt.colorbar()\r\n",
        "        plt.pcolormesh(x, y, z,cmap=plt.cm.Purples,vmin=vmin,vmax=vmax);plt.colorbar()\r\n",
        "        plt.axis(extent)\r\n",
        "    \r\n",
        "    if Y is not None:        \r\n",
        "        for i,y in enumerate(classes):\r\n",
        "            if colors is None or colors=='scaled':\r\n",
        "                cc = np.array([[i,i,i]])/float(len(classes))\r\n",
        "            elif colors =='random':\r\n",
        "                cc = np.array([[np.random.rand(),np.random.rand(),np.random.rand()]])\r\n",
        "            else:\r\n",
        "                cc = colors[i%len(colors)]\r\n",
        "            mm = markers[i%len(markers)]\r\n",
        "            plt.scatter(X[Y==y,d0],X[Y==y,d1], marker = mm,c = cc, s = 30)     \r\n",
        "         \r\n",
        "    else:\r\n",
        "        plt.scatter(X[:,d0],X[:,d1],marker = markers[0], c = 'k', s = 5)\r\n",
        "    plt.xlabel('$x_1$')\r\n",
        "    plt.ylabel('$x_2$')   \r\n",
        "    if not hold:\r\n",
        "        plt.grid()        \r\n",
        "        plt.show()\r\n",
        "    return extent\r\n",
        "class RegularizedPerceptron:\r\n",
        "    def __init__(self,Lambda = 0.0, margin = 0.0, alpha = 0.1, epochs = 1000):\r\n",
        "        self.alpha = alpha\r\n",
        "        self.epochs = epochs\r\n",
        "        self.W = np.array([0])\r\n",
        "        self.bias = np.random.randn()\r\n",
        "        self.Lambda = Lambda #not used in perceptron\r\n",
        "        self.Margin = margin #0.0 in Perceptron\r\n",
        "    def fit(self,Xtr,Ytr):\r\n",
        "        d = Xtr.shape[1]\r\n",
        "        self.W = np.random.randn(d)          \r\n",
        "        for e in range(self.epochs):\r\n",
        "            finished = True\r\n",
        "            for i,x in enumerate(Xtr):\r\n",
        "                if self.score(np.atleast_2d(x))*Ytr[i]<self.Margin:\r\n",
        "                    self.W += self.alpha*Ytr[i]*x\r\n",
        "                    self.bias += self.alpha*Ytr[i]\r\n",
        "                    \r\n",
        "            self.W = self.W-self.alpha*self.Lambda*self.W #Regularization update      \r\n",
        "             \r\n",
        "    def score(self,x):\r\n",
        "        return np.dot(x,self.W) + self.bias\r\n",
        "        \r\n",
        "    def predict(self,x):\r\n",
        "        return np.sign(self.score(x))\r\n",
        "\r\n",
        "if __name__=='__main__':\r\n",
        "    \r\n",
        "    Xtr = np.array([[-1,0],[0,1],[4,4],[2,3]])\r\n",
        "    ytr = np.array([-1,-1,+1,+1])\r\n",
        "    clf = RegularizedPerceptron(Lambda = 0.1, margin = 1.0)\r\n",
        "    clf.fit(Xtr,ytr)\r\n",
        "    z = clf.score(Xtr)\r\n",
        "    print(\"Prediction Scores:\",z)\r\n",
        "    y = clf.predict(Xtr)\r\n",
        "    print(\"Prediction Labels:\",y)\r\n",
        "    plotit(Xtr,ytr,clf=clf.score,conts=[0],extent = [-5,+5,-5,+5])\r\n"
      ],
      "execution_count": 2,
      "outputs": [
        {
          "output_type": "stream",
          "text": [
            "Prediction Scores: [-2.51521254 -1.25850354  3.1412386   1.25491446]\n",
            "Prediction Labels: [-1. -1.  1.  1.]\n"
          ],
          "name": "stdout"
        },
        {
          "output_type": "stream",
          "text": [
            "/usr/local/lib/python3.6/dist-packages/ipykernel_launcher.py:61: UserWarning: The following kwargs were not used by contour: 'label'\n"
          ],
          "name": "stderr"
        },
        {
          "output_type": "display_data",
          "data": {
            "image/png": "[encoded data removed]",
            "text/plain": [
              "<Figure size 432x288 with 2 Axes>"
            ]
          },
          "metadata": {
            "tags": [],
            "needs_background": "light"
          }
        }
      ]
    },
    {
      "cell_type": "code",
      "metadata": {
        "id": "ZrcYKXNRulf1"
      },
      "source": [
        ""
      ],
      "execution_count": null,
      "outputs": []
    }
  ]
}